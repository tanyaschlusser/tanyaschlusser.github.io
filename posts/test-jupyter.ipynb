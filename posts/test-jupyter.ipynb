{
 "cells": [
  {
   "cell_type": "markdown",
   "metadata": {},
   "source": [
    "# First jupyter notebook\n",
    "\n",
    "This is a jupyer notebook plain text\n",
    "\n",
    "## subhead\n",
    "\n",
    "```python\n",
    "import this\n",
    "\n",
    "print('\\n'.join(x for x in 'hello world'))\n",
    "```\n",
    "\n",
    "<table><tr><th>A</th><th>B</th><th>C</th></tr>\n",
    "    <tr><td>foo</td><td>bar</td><td>baz</td></tr>\n",
    "    <tr><td>foo</td><td>bar</td><td>baz</td></tr>\n",
    "    <tr><td>foo</td><td>bar</td><td>baz</td></tr>\n",
    "</table>\n",
    "\n",
    "\n",
    "<div style=\"border: 2px solid black;width:20%;margin:auto\">\n",
    "<img src=\"https://c.pxhere.com/photos/b4/40/puppy_dog_pet_animal_cute_white_adorable_canine-1264875.jpg!d\" alt=\"Cute puppy\">\n",
    "</div>"
   ]
  },
  {
   "cell_type": "raw",
   "metadata": {},
   "source": [
    "<!-- TEASER_END -->"
   ]
  },
  {
   "cell_type": "code",
   "execution_count": 1,
   "metadata": {},
   "outputs": [],
   "source": [
    "import json\n",
    "import altair as alt\n",
    "import pandas as pd\n",
    "from altair.vega import v3\n",
    "\n",
    "from IPython.display import HTML\n",
    "from altair.utils.mimebundle import spec_to_mimebundle\n",
    "\n",
    "#def colab_renderer(spec, **metadata):\n",
    "#    return spec_to_mimebundle(spec, format='html',\n",
    "#                              mode='vega',\n",
    "#                             vega_version=v3.SCHEMA_VERSION,\n",
    "#                              vegaembed_version='3.14',\n",
    "#                              **metadata)\n",
    " \n",
    "\n",
    "#v3.renderers.register('colab', colab_renderer)\n",
    "#v3.renderers.enable('notebook')\n",
    "#alt.renderers.enable('notebook')"
   ]
  },
  {
   "cell_type": "code",
   "execution_count": 2,
   "metadata": {},
   "outputs": [],
   "source": [
    "# Define the function for rendering\n",
    "def add_autoincrement(render_func):\n",
    "    # Keep track of unique <div/> IDs\n",
    "    cache = {}\n",
    "    def wrapped(chart, id=\"vega-chart\", autoincrement=True):\n",
    "        \"\"\"Render an altair chart directly via javascript.\n",
    "        \n",
    "        This is a workaround for functioning export to HTML.\n",
    "        (It probably messes up other ways to export.) It will\n",
    "        cache and autoincrement the ID suffixed with a\n",
    "        number (e.g. vega-chart-1) so you don't have to deal\n",
    "        with that.\n",
    "        \"\"\"\n",
    "        if autoincrement:\n",
    "            if id in cache:\n",
    "                counter = 1 + cache[id]\n",
    "                cache[id] = counter\n",
    "            else:\n",
    "                cache[id] = 0\n",
    "            actual_id = id if cache[id] == 0 else id + '-' + str(cache[id])\n",
    "        else:\n",
    "            if id not in cache:\n",
    "                cache[id] = 0\n",
    "            actual_id = id\n",
    "        return render_func(chart, id=actual_id)\n",
    "    # Cache will stay defined and keep track of the unique div Ids\n",
    "    return wrapped\n",
    "\n",
    "\n",
    "@add_autoincrement\n",
    "def render(chart, id=\"vega-chart\"):\n",
    "    # This below is the javascript to make the chart directly using vegaEmbed\n",
    "    chart_str = \"\"\"\n",
    "    <div id=\"{id}\"></div><script>\n",
    "    //require([\"vega-embed\"], function(vegaEmbed) {{\n",
    "    (function(){{\n",
    "        const spec = {chart};     \n",
    "        vegaEmbed(\"#{id}\", spec, {{defaultStyle: true}}).catch(console.warn);\n",
    "    }})();\n",
    "    //}});\n",
    "    </script>\n",
    "    \"\"\"\n",
    "    return HTML(\n",
    "        chart_str.format(\n",
    "            id=id,\n",
    "            chart=json.dumps(chart) if isinstance(chart, dict) else chart.to_json(indent=None)\n",
    "        )\n",
    "    )\n"
   ]
  },
  {
   "cell_type": "code",
   "execution_count": 3,
   "metadata": {},
   "outputs": [
    {
     "data": {
      "text/html": [
       "<script>\n",
       "//requirejs.config({\n",
       "//    baseUrl: 'https://cdn.jsdelivr.net/npm/',\n",
       "//    paths: [\"https://cdn.jsdelivr.net/npm/vega@v3.3.1\", \"https://cdn.jsdelivr.net/npm/vega-lite@v2.4.3\", \"https://cdn.jsdelivr.net/npm/vega-embed@3\"]\n",
       "//});\n",
       "const paths = [\"https://cdn.jsdelivr.net/npm/vega@v3.3.1\", \"https://cdn.jsdelivr.net/npm/vega-lite@v2.4.3\", \"https://cdn.jsdelivr.net/npm/vega-embed@3\"];\n",
       "paths.forEach(function(path){\n",
       "  var script = document.createElement('script');\n",
       "  script.setAttribute('src', path);\n",
       "    document.head.append(script);\n",
       "});\n",
       "</script>This code block sets up embedded rendering in HTML."
      ],
      "text/plain": [
       "<IPython.core.display.HTML object>"
      ]
     },
     "execution_count": 3,
     "metadata": {},
     "output_type": "execute_result"
    }
   ],
   "source": [
    "# Create the correct URLs for require.js to find the Javascript libraries\n",
    "vega_url = 'https://cdn.jsdelivr.net/npm/vega@' + v3.SCHEMA_VERSION\n",
    "vega_lib_url = 'https://cdn.jsdelivr.net/npm/vega-lib'\n",
    "vega_lite_url = 'https://cdn.jsdelivr.net/npm/vega-lite@' + alt.SCHEMA_VERSION\n",
    "vega_embed_url = 'https://cdn.jsdelivr.net/npm/vega-embed@3'\n",
    "noext = \"?noext\"\n",
    "\n",
    "#paths = {\n",
    "#    'vega': vega_url + noext,\n",
    "#    'vega-lib': vega_lib_url + noext,\n",
    "#    'vega-lite': vega_lite_url + noext,\n",
    "#    'vega-embed': vega_embed_url + noext\n",
    "#}\n",
    "paths = [vega_url, vega_lite_url, vega_embed_url]\n",
    "\n",
    "workaround = \"\"\"\n",
    "//requirejs.config({{\n",
    "//    baseUrl: 'https://cdn.jsdelivr.net/npm/',\n",
    "//    paths: {paths}\n",
    "//}});\n",
    "const paths = {paths};\n",
    "paths.forEach(function(path){{\n",
    "  var script = document.createElement('script');\n",
    "  script.setAttribute('src', path);\n",
    "    document.head.append(script);\n",
    "}});\n",
    "\"\"\"\n",
    "\n",
    "HTML(\"\".join((\n",
    "    \"<script>\",\n",
    "    workaround.format(paths=json.dumps(paths)),\n",
    "    \"</script>\",\n",
    "    \"This code block sets up embedded rendering in HTML.\"\n",
    ")))"
   ]
  },
  {
   "cell_type": "code",
   "execution_count": 4,
   "metadata": {},
   "outputs": [
    {
     "data": {
      "text/html": [
       "\n",
       "    <div id=\"vega-chart\"></div><script>\n",
       "    //require([\"vega-embed\"], function(vegaEmbed) {\n",
       "    (function(){\n",
       "        const spec = {\"$schema\": \"https://vega.github.io/schema/vega-lite/v2.4.3.json\", \"config\": {\"view\": {\"height\": 300, \"width\": 400}}, \"data\": {\"values\": [{\"a\": \"h\", \"b\": 1}, {\"a\": \"o\", \"b\": 2}, {\"a\": \"w\", \"b\": 3}, {\"a\": \"d\", \"b\": 4}, {\"a\": \"y\", \"b\": 5}]}, \"encoding\": {\"tooltip\": {\"field\": \"b\", \"type\": \"quantitative\"}, \"x\": {\"field\": \"a\", \"type\": \"ordinal\"}, \"y\": {\"field\": \"b\", \"type\": \"quantitative\"}}, \"mark\": \"bar\", \"width\": 360};     \n",
       "        vegaEmbed(\"#vega-chart\", spec, {defaultStyle: true}).catch(console.warn);\n",
       "    })();\n",
       "    //});\n",
       "    </script>\n",
       "    "
      ],
      "text/plain": [
       "<IPython.core.display.HTML object>"
      ]
     },
     "execution_count": 4,
     "metadata": {},
     "output_type": "execute_result"
    }
   ],
   "source": [
    "df = pd.DataFrame(dict(a=tuple(\"howdy\"), b=[1,2,3,4,5]))\n",
    "render(alt.Chart(df, width=360).mark_bar().encode(x='a:O', y='b:Q', tooltip='b'))"
   ]
  },
  {
   "cell_type": "code",
   "execution_count": 5,
   "metadata": {},
   "outputs": [],
   "source": [
    "def Data(df, name=\"data\"):\n",
    "    return [dict(name=name, values=df.to_dict(orient=\"records\"))]\n",
    "\n",
    "\n",
    "def word_cloud(data, pixwidth=800, pixheight=400):\n",
    "    wordcloud = {\n",
    "        \"$schema\": \"https://vega.github.io/schema/vega/v3.json\",\n",
    "        \"width\": pixwidth,\n",
    "        \"height\": pixheight,\n",
    "        \"padding\": 0,\n",
    "        \"data\": Data(df, name=\"words\")\n",
    "    }\n",
    "    scale = dict(\n",
    "        name=\"color\",\n",
    "        type=\"ordinal\",\n",
    "        range=[\"cadetblue\", \"royalblue\", \"steelblue\", \"navy\", \"teal\"]\n",
    "    )\n",
    "    mark = {\n",
    "        \"type\":\"text\",\n",
    "        \"from\":dict(data=\"words\"),\n",
    "        \"encode\":dict(\n",
    "            enter=dict(\n",
    "                text=dict(field=\"word\"),\n",
    "                align=dict(value=\"center\"),\n",
    "                fill=dict(scale=\"color\", field=\"etc\"),\n",
    "                hover=dict(fillOpacity=dict(value=.5)),\n",
    "                update=dict(fillOpacity=dict(value=1)),\n",
    "                tooltip=dict(field=\"etc\", type=\"nominal\", fontSize=32)\n",
    "            )\n",
    "        ),\n",
    "        \"transform\": [{\n",
    "            \"type\": \"wordcloud\",\n",
    "            \"text\": dict(field=\"word\"),\n",
    "            \"size\": [pixwidth, pixheight],\n",
    "            \"fontSize\": dict(field=\"datum.count\"),\n",
    "            \"fontSizeRange\": [20, 80],\n",
    "            \"padding\": 3\n",
    "        }]\n",
    "    }\n",
    "    wordcloud[\"scales\"] = [scale]\n",
    "    wordcloud[\"marks\"] = [mark]\n",
    "    return wordcloud"
   ]
  },
  {
   "cell_type": "code",
   "execution_count": 6,
   "metadata": {},
   "outputs": [
    {
     "data": {
      "text/html": [
       "\n",
       "    <div id=\"vega-chart-1\"></div><script>\n",
       "    //require([\"vega-embed\"], function(vegaEmbed) {\n",
       "    (function(){\n",
       "        const spec = {\"$schema\": \"https://vega.github.io/schema/vega/v3.json\", \"width\": 800, \"height\": 400, \"padding\": 0, \"data\": [{\"name\": \"words\", \"values\": [{\"word\": \"foo\", \"count\": 1, \"etc\": \"label\"}, {\"word\": \"bar\", \"count\": 3, \"etc\": \"another\"}, {\"word\": \"baz\", \"count\": 5, \"etc\": \"third\"}]}], \"scales\": [{\"name\": \"color\", \"type\": \"ordinal\", \"range\": [\"cadetblue\", \"royalblue\", \"steelblue\", \"navy\", \"teal\"]}], \"marks\": [{\"type\": \"text\", \"from\": {\"data\": \"words\"}, \"encode\": {\"enter\": {\"text\": {\"field\": \"word\"}, \"align\": {\"value\": \"center\"}, \"fill\": {\"scale\": \"color\", \"field\": \"etc\"}, \"hover\": {\"fillOpacity\": {\"value\": 0.5}}, \"update\": {\"fillOpacity\": {\"value\": 1}}, \"tooltip\": {\"field\": \"etc\", \"type\": \"nominal\", \"fontSize\": 32}}}, \"transform\": [{\"type\": \"wordcloud\", \"text\": {\"field\": \"word\"}, \"size\": [800, 400], \"fontSize\": {\"field\": \"datum.count\"}, \"fontSizeRange\": [20, 80], \"padding\": 3}]}]};     \n",
       "        vegaEmbed(\"#vega-chart-1\", spec, {defaultStyle: true}).catch(console.warn);\n",
       "    })();\n",
       "    //});\n",
       "    </script>\n",
       "    "
      ],
      "text/plain": [
       "<IPython.core.display.HTML object>"
      ]
     },
     "execution_count": 6,
     "metadata": {},
     "output_type": "execute_result"
    }
   ],
   "source": [
    "df = pd.DataFrame(dict(word=('foo', 'bar', 'baz'),\n",
    "                       count=(1,3,5),\n",
    "                      etc=('label', 'another', 'third')))\n",
    "#v3.vega(word_cloud(df))\n",
    "render(word_cloud(df))"
   ]
  }
 ],
 "metadata": {
  "kernelspec": {
   "display_name": "Python 3",
   "language": "python",
   "name": "python3"
  },
  "language_info": {
   "codemirror_mode": {
    "name": "ipython",
    "version": 3
   },
   "file_extension": ".py",
   "mimetype": "text/x-python",
   "name": "python",
   "nbconvert_exporter": "python",
   "pygments_lexer": "ipython3",
   "version": "3.6.5"
  },
  "nikola": {
   "category": "Testing",
   "date": "2018-06-20 11:19:07 UTC-05:00",
   "description": "First Jupyter notebook post",
   "link": "",
   "slug": "test-jupyter",
   "tags": "baz,bar",
   "title": "Test Jupyter",
   "type": "text"
  }
 },
 "nbformat": 4,
 "nbformat_minor": 2
}
